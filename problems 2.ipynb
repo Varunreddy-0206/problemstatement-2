{
 "cells": [
  {
   "cell_type": "code",
   "execution_count": 2,
   "metadata": {},
   "outputs": [
    {
     "name": "stdout",
     "output_type": "stream",
     "text": [
      "enter numer1\n",
      "enter numer1\n",
      "enter numer1\n",
      "enter numer1\n",
      "enter numer1\n",
      "enter numer1\n",
      "enter numer1\n",
      "enter numer1\n",
      "enter numer1\n",
      "enter numer1\n",
      "1.0\n"
     ]
    }
   ],
   "source": [
    "#take 10 integers from keyboard using loop and print their average value on the screen\n",
    "a=[]\n",
    "sum=0\n",
    "for i in range(1,11):\n",
    "    ele=int(input(\"enter numer\"))\n",
    "    a.append(ele)\n",
    "    sum=sum+ele\n",
    "    avg=sum/10\n",
    "print(avg)\n"
   ]
  },
  {
   "cell_type": "code",
   "execution_count": 5,
   "metadata": {},
   "outputs": [
    {
     "name": "stdout",
     "output_type": "stream",
     "text": [
      "24\t50\t29\n",
      "48\t100\t58\n",
      "72\t150\t87\n",
      "96\t200\t116\n",
      "120\t250\t145\n",
      "144\t300\t174\n",
      "168\t350\t203\n",
      "192\t400\t232\n",
      "216\t450\t261\n",
      "240\t500\t290\n"
     ]
    }
   ],
   "source": [
    "#2. Print multiplication table of 24, 50 and 29 using loop.\n",
    "for i in range(1,11):\n",
    "    print(24*i,end='\\t')\n",
    "    print(50*i,end='\\t')\n",
    "    print(29*i,)"
   ]
  },
  {
   "cell_type": "code",
   "execution_count": 6,
   "metadata": {},
   "outputs": [
    {
     "name": "stdout",
     "output_type": "stream",
     "text": [
      "enter a number\n",
      "1\n",
      "Press q when you are done else press Y to continue \n",
      "2\n",
      "enter a number\n",
      "3\n",
      "Press q when you are done else press Y to continue \n",
      "4\n",
      "enter a number\n",
      "5\n",
      "Press q when you are done else press Y to continue \n",
      "q\n",
      "Average 3.0\n",
      "product 15\n"
     ]
    }
   ],
   "source": [
    "#3. Take integer inputs from user until user presses q ( Ask to press q to quit after every integer input ).\n",
    "#Print average and product of all numbers.\n",
    "sum=0\n",
    "count=0\n",
    "product_num=1\n",
    "while 1:\n",
    "    print(\"enter a number\")\n",
    "\n",
    "    num=int(input())\n",
    "    count=count+1\n",
    "    sum=sum+num\n",
    "    product_num=product_num * num\n",
    "    print(\"Press q when you are done \")\n",
    "    m=input()\n",
    "    if m=='q' or m=='Q':\n",
    "        break\n",
    "    else:\n",
    "        \n",
    "        continue\n",
    "    \n",
    "print(\"Average\",sum/count)\n",
    "print(\"product\",product_num)"
   ]
  },
  {
   "cell_type": "code",
   "execution_count": 12,
   "metadata": {},
   "outputs": [
    {
     "name": "stdout",
     "output_type": "stream",
     "text": [
      "125\n",
      "153\n",
      "216\n",
      "370\n",
      "371\n",
      "407\n"
     ]
    }
   ],
   "source": [
    " #A three digit number is called Armstrong number if sum of cube of its digit is equal to number itself.\n",
    "#E.g.- 153 is an Armstrong number because (1)+(125)+(27) = 153.\n",
    "#Write all Armstrong numbers between 100 to 500.\n",
    "for n in range(100, 501):\n",
    "    sum = 0\n",
    "    t = n\n",
    "    while t > 0:\n",
    "        r= t % 10\n",
    "        sum += r ** 3\n",
    "        t //= 10\n",
    "        if n == sum:\n",
    "            print(n)"
   ]
  },
  {
   "cell_type": "code",
   "execution_count": 13,
   "metadata": {},
   "outputs": [
    {
     "name": "stdout",
     "output_type": "stream",
     "text": [
      "1\n",
      "2\n",
      "Fizz\n",
      "4\n",
      "Buzz\n",
      "Fizz\n",
      "7\n",
      "8\n",
      "Fizz\n",
      "Buzz\n",
      "11\n",
      "Fizz\n",
      "13\n",
      "14\n",
      "Fizzbuzz\n",
      "16\n",
      "17\n",
      "Fizz\n",
      "19\n",
      "Buzz\n",
      "Fizz\n",
      "22\n",
      "23\n",
      "Fizz\n",
      "Buzz\n",
      "26\n",
      "Fizz\n",
      "28\n",
      "29\n",
      "Fizzbuzz\n",
      "31\n",
      "32\n",
      "Fizz\n",
      "34\n",
      "Buzz\n",
      "Fizz\n",
      "37\n",
      "38\n",
      "Fizz\n",
      "Buzz\n",
      "41\n",
      "Fizz\n",
      "43\n",
      "44\n",
      "Fizzbuzz\n",
      "46\n",
      "47\n",
      "Fizz\n",
      "49\n",
      "Buzz\n"
     ]
    }
   ],
   "source": [
    "#5. Write a Python program which iterates the integers from 1 to 50.\n",
    "#For multiples of three print \"Fizz\" instead of the number and for the multiples\n",
    "#of five print \"Buzz\". For numbers which are multiples of both three and five print \"FizzBuzz\".\n",
    "#Sample Output :\n",
    "#fizzbuzz\n",
    "#1\n",
    "#2\n",
    "#fizz\n",
    "#4\n",
    "#buzz\n",
    "\n",
    "for i in range(1,51):\n",
    "    if i%3==0 and i%5==0:\n",
    "        print(\"Fizzbuzz\")\n",
    "    elif i%3==0:\n",
    "        print(\"Fizz\")\n",
    "    elif i%5==0:\n",
    "        print(\"Buzz\")\n",
    "        \n",
    "    else:\n",
    "        print(i)"
   ]
  },
  {
   "cell_type": "code",
   "execution_count": 17,
   "metadata": {},
   "outputs": [
    {
     "name": "stdout",
     "output_type": "stream",
     "text": [
      " Please Enter the First Value  Num1 : 10\n",
      " Please Enter the Second Value Num2 : 20\n",
      "10.0\n"
     ]
    }
   ],
   "source": [
    "num1 = float(input(\" Please Enter the First Value  Num1 : \"))\n",
    "num2 = float(input(\" Please Enter the Second Value Num2 : \"))\n",
    "\n",
    "a = num1\n",
    "b = num2\n",
    "\n",
    "while(num2 != 0):\n",
    "    temp = num2\n",
    "    num2 = num1 % num2\n",
    "    num1 = temp\n",
    "\n",
    "gcd = num1   \n",
    "print(gcd)"
   ]
  },
  {
   "cell_type": "code",
   "execution_count": 32,
   "metadata": {},
   "outputs": [
    {
     "name": "stdout",
     "output_type": "stream",
     "text": [
      "200,202,204,206,208,220,222,224,226,228,240,242,244,246,248,260,262,264,266,268,280,282,284,286,288,400,"
     ]
    }
   ],
   "source": [
    "for i in range(100, 401):\n",
    "    first_digit = i % 10\n",
    "    second_digit = i // 10 % 10\n",
    "    third_digit = i // 100\n",
    "    if first_digit % 2 == 0 and second_digit % 2 == 0 and third_digit % 2 == 0:\n",
    "        print(i, end=\",\")"
   ]
  },
  {
   "cell_type": "code",
   "execution_count": 34,
   "metadata": {},
   "outputs": [
    {
     "name": "stdout",
     "output_type": "stream",
     "text": [
      "Enter number of rows:10\n",
      "Enter number of columns:20\n",
      "0 2 4 6 8 10 12 14 16 18 20 22 24 26 28 30 32 34 36 38 \n",
      "2 4 6 8 10 12 14 16 18 20 22 24 26 28 30 32 34 36 38 40 \n",
      "4 6 8 10 12 14 16 18 20 22 24 26 28 30 32 34 36 38 40 42 \n",
      "6 8 10 12 14 16 18 20 22 24 26 28 30 32 34 36 38 40 42 44 \n",
      "8 10 12 14 16 18 20 22 24 26 28 30 32 34 36 38 40 42 44 46 \n",
      "10 12 14 16 18 20 22 24 26 28 30 32 34 36 38 40 42 44 46 48 \n",
      "12 14 16 18 20 22 24 26 28 30 32 34 36 38 40 42 44 46 48 50 \n",
      "14 16 18 20 22 24 26 28 30 32 34 36 38 40 42 44 46 48 50 52 \n",
      "16 18 20 22 24 26 28 30 32 34 36 38 40 42 44 46 48 50 52 54 \n",
      "18 20 22 24 26 28 30 32 34 36 38 40 42 44 46 48 50 52 54 56 \n"
     ]
    }
   ],
   "source": [
    "Row = int(input(\"Enter number of rows:\"))\n",
    "Col = int(input(\"Enter number of columns:\")) \n",
    "a=[] \n",
    "for i in range(Row):\n",
    "    b =[]\n",
    "    for j in range(Col):\n",
    "        b.append(2*(i+j))\n",
    "    a.append(b)\n",
    "    \n",
    "for i in range(Row):\n",
    "    for j in range(Col):\n",
    "        print(a[i][j], end = \" \")\n",
    "        \n",
    "    print()"
   ]
  },
  {
   "cell_type": "code",
   "execution_count": 35,
   "metadata": {},
   "outputs": [
    {
     "name": "stdout",
     "output_type": "stream",
     "text": [
      "enter the number:10\n",
      "2 is a prime factor\n",
      "5 is a prime factor\n"
     ]
    }
   ],
   "source": [
    "num =int(input(\"enter the number:\"))\n",
    "for i in range(1,num):\n",
    "    if num%i==0:\n",
    "        if i > 1:\n",
    "            for x in range(2, i//2):\n",
    "                if (i % x) == 0:\n",
    "                    print(i, \"is not a prime factor\") \n",
    "                    break\n",
    "            else:\n",
    "                print(i, \"is a prime factor\")"
   ]
  },
  {
   "cell_type": "code",
   "execution_count": 37,
   "metadata": {},
   "outputs": [
    {
     "name": "stdout",
     "output_type": "stream",
     "text": [
      "enter the length of the series 10\n",
      "Fibonacci sequence:\n",
      "0 1 1 2 3 5 8 13 21 34 "
     ]
    }
   ],
   "source": [
    "num = int(input(\"enter the length of the series \"))\n",
    "n1, n2 = 0, 1\n",
    "count = 0\n",
    "if num <= 0:\n",
    "   print(\"Please enter a  number>0\")\n",
    "elif num == 1:\n",
    "   print(\"Fibonacci sequence upto length\",num,\":\", n1)\n",
    "else:\n",
    "   print(\"Fibonacci sequence:\")\n",
    "   while count < num:\n",
    "       print(n1,end=\" \")\n",
    "       nth = n1 + n2\n",
    "       n1 = n2\n",
    "       n2 = nth\n",
    "       count += 1"
   ]
  },
  {
   "cell_type": "code",
   "execution_count": 1,
   "metadata": {},
   "outputs": [
    {
     "name": "stdout",
     "output_type": "stream",
     "text": [
      "Enter the nummber:1234\n",
      "4321\n"
     ]
    }
   ],
   "source": [
    "num=int(input(\"Enter the nummber:\"))\n",
    "reverse=0\n",
    "while num>0:\n",
    "    rem=num%10\n",
    "    reverse=reverse*10+rem\n",
    "    num=num//10\n",
    "print(reverse)"
   ]
  },
  {
   "cell_type": "code",
   "execution_count": 10,
   "metadata": {},
   "outputs": [
    {
     "name": "stdout",
     "output_type": "stream",
     "text": [
      "Please Enter any Number: 1234\n",
      "\n",
      " Sum of the digits of Given Number = 10\n"
     ]
    }
   ],
   "source": [
    "Number = int(input(\"Please Enter any Number: \"))\n",
    "Sum = 0\n",
    "\n",
    "while(Number > 0):\n",
    "    Reminder = Number % 10\n",
    "    Sum = Sum + Reminder\n",
    "    Number = Number //10\n",
    "\n",
    "print(\"\\n Sum of the digits of Given Number = %d\" %Sum)"
   ]
  },
  {
   "cell_type": "code",
   "execution_count": 11,
   "metadata": {},
   "outputs": [
    {
     "name": "stdout",
     "output_type": "stream",
     "text": [
      "\n",
      "* \n",
      "* * \n",
      "* * * \n",
      "* * * * \n",
      "* * * * * \n",
      "* * * * \n",
      "* * * \n",
      "* * \n",
      "* \n"
     ]
    }
   ],
   "source": [
    "for i in range(5):\n",
    "    for j in range(i):\n",
    "        print ('* ', end=\"\")\n",
    "    print('')\n",
    "\n",
    "for i in range(5,0,-1):\n",
    "    for j in range(i):\n",
    "        print('* ', end=\"\")\n",
    "    print('')"
   ]
  },
  {
   "cell_type": "code",
   "execution_count": 12,
   "metadata": {},
   "outputs": [
    {
     "name": "stdout",
     "output_type": "stream",
     "text": [
      "1\n",
      "22\n",
      "333\n",
      "4444\n",
      "55555\n",
      "666666\n",
      "7777777\n",
      "88888888\n",
      "999999999\n"
     ]
    }
   ],
   "source": [
    "for  i  in range(1,10):\n",
    "    print(str(i)*i)\n"
   ]
  },
  {
   "cell_type": "code",
   "execution_count": 13,
   "metadata": {},
   "outputs": [
    {
     "name": "stdout",
     "output_type": "stream",
     "text": [
      "         *\n",
      "        ***\n",
      "       *****\n",
      "      *******\n",
      "     *********\n"
     ]
    }
   ],
   "source": [
    "j=9\n",
    "for i in range(1,10,2):\n",
    "    print(' ' *j+i*'*')\n",
    "    j=j-1"
   ]
  },
  {
   "cell_type": "code",
   "execution_count": 14,
   "metadata": {},
   "outputs": [
    {
     "name": "stdout",
     "output_type": "stream",
     "text": [
      "  * * *   \n",
      "*       * \n",
      "*       * \n",
      "* * * * * \n",
      "*       * \n",
      "*       * \n",
      "*       * \n"
     ]
    }
   ],
   "source": [
    "for row in range(7):\n",
    "    for col in range(5):\n",
    "        if((col==0 or col==4) and row!=0) or((row==0 or row==3)and (col>0 and col<4)):\n",
    "            print(\"*\",end= \" \")\n",
    "        else:\n",
    "            print(\" \",end= \" \")\n",
    "            \n",
    "    print()"
   ]
  },
  {
   "cell_type": "code",
   "execution_count": null,
   "metadata": {},
   "outputs": [],
   "source": []
  }
 ],
 "metadata": {
  "kernelspec": {
   "display_name": "Python 3",
   "language": "python",
   "name": "python3"
  },
  "language_info": {
   "codemirror_mode": {
    "name": "ipython",
    "version": 3
   },
   "file_extension": ".py",
   "mimetype": "text/x-python",
   "name": "python",
   "nbconvert_exporter": "python",
   "pygments_lexer": "ipython3",
   "version": "3.7.6"
  }
 },
 "nbformat": 4,
 "nbformat_minor": 4
}
